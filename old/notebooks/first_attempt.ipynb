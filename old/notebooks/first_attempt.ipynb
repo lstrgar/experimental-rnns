{
 "cells": [
  {
   "cell_type": "code",
   "execution_count": 1,
   "metadata": {},
   "outputs": [],
   "source": [
    "import numpy as np\n",
    "\n",
    "\n",
    "\n",
    "class Melanie_Diamond():\n",
    "    def loves(person):\n",
    "        if person=='Gabe':\n",
    "            return True\n",
    "\n",
    "class Optimizer(Melanie_Diamond):\n",
    "    #Fuck Josh Melander\n",
    "    def __init__(self,num_neurons=50,alpha=3):\n",
    "        self.P_nis = 1/alpha * np.eye(num_neurons)\n",
    "        \n",
    "    def update(self,weights,state,target):\n",
    "        self.P_nis -= ( (self.P_nis @ state) @ (state.T @ self.P_nis)\n",
    "                       / 1 + state.T @ self.P_nis @ state)\n",
    "        weights -= (weights.T @ state - target) * (self.P_nis @ state)\n",
    "        \n",
    "        \n",
    "\n",
    "        \n",
    "def Target(x):\n",
    "    return np.sin(x)"
   ]
  },
  {
   "cell_type": "code",
   "execution_count": 2,
   "metadata": {},
   "outputs": [
    {
     "name": "stderr",
     "output_type": "stream",
     "text": [
      "/Users/joshuamelander/anaconda/lib/python3.6/site-packages/ipykernel_launcher.py:17: RuntimeWarning: invalid value encountered in double_scalars\n"
     ]
    }
   ],
   "source": [
    "N=50\n",
    "optim = Optimizer(num_neurons=N,alpha=3)\n",
    "\n",
    "for i in range(1000):\n",
    "    optim.update(np.random.rand(N),np.random.rand(N),1)"
   ]
  },
  {
   "cell_type": "code",
   "execution_count": null,
   "metadata": {},
   "outputs": [],
   "source": []
  },
  {
   "cell_type": "code",
   "execution_count": 3,
   "metadata": {},
   "outputs": [
    {
     "data": {
      "text/plain": [
       "array([[ 5.,  5.,  5.,  5.,  5.],\n",
       "       [ 5.,  5.,  5.,  5.,  5.],\n",
       "       [ 5.,  5.,  5.,  5.,  5.],\n",
       "       [ 5.,  5.,  5.,  5.,  5.],\n",
       "       [ 5.,  5.,  5.,  5.,  5.]])"
      ]
     },
     "execution_count": 3,
     "metadata": {},
     "output_type": "execute_result"
    }
   ],
   "source": [
    "np.ones((5,5)) @ np.ones((5,5))"
   ]
  },
  {
   "cell_type": "code",
   "execution_count": null,
   "metadata": {},
   "outputs": [],
   "source": []
  },
  {
   "cell_type": "code",
   "execution_count": null,
   "metadata": {},
   "outputs": [],
   "source": []
  },
  {
   "cell_type": "code",
   "execution_count": null,
   "metadata": {},
   "outputs": [],
   "source": []
  },
  {
   "cell_type": "code",
   "execution_count": 4,
   "metadata": {},
   "outputs": [],
   "source": [
    "# %matplotlib notebook\n",
    "import matplotlib.pyplot as plt\n",
    "from matplotlib.pyplot import figure as ff\n",
    "import numpy as np"
   ]
  },
  {
   "cell_type": "code",
   "execution_count": 5,
   "metadata": {},
   "outputs": [],
   "source": [
    "from IPython.core.debugger import set_trace as bp"
   ]
  },
  {
   "cell_type": "code",
   "execution_count": 1,
   "metadata": {},
   "outputs": [
    {
     "ename": "AttributeError",
     "evalue": "'Model' object has no attribute 'w_rec'",
     "output_type": "error",
     "traceback": [
      "\u001b[0;31m---------------------------------------------------------------------------\u001b[0m",
      "\u001b[0;31mAttributeError\u001b[0m                            Traceback (most recent call last)",
      "\u001b[0;32m<ipython-input-1-9d8d97229717>\u001b[0m in \u001b[0;36m<module>\u001b[0;34m()\u001b[0m\n\u001b[1;32m    113\u001b[0m \u001b[0;32mfor\u001b[0m \u001b[0mi\u001b[0m \u001b[0;32min\u001b[0m \u001b[0mrange\u001b[0m\u001b[0;34m(\u001b[0m\u001b[0mnum_steps\u001b[0m\u001b[0;34m)\u001b[0m\u001b[0;34m:\u001b[0m\u001b[0;34m\u001b[0m\u001b[0m\n\u001b[1;32m    114\u001b[0m \u001b[0;31m#     xs +=  model.train_step(p=False)\u001b[0m\u001b[0;34m\u001b[0m\u001b[0;34m\u001b[0m\u001b[0m\n\u001b[0;32m--> 115\u001b[0;31m     \u001b[0mmodel\u001b[0m\u001b[0;34m.\u001b[0m\u001b[0mtrain_step\u001b[0m\u001b[0;34m(\u001b[0m\u001b[0mp\u001b[0m\u001b[0;34m=\u001b[0m\u001b[0;32mFalse\u001b[0m\u001b[0;34m)\u001b[0m\u001b[0;34m\u001b[0m\u001b[0m\n\u001b[0m\u001b[1;32m    116\u001b[0m     \u001b[0mzs\u001b[0m\u001b[0;34m.\u001b[0m\u001b[0mappend\u001b[0m\u001b[0;34m(\u001b[0m\u001b[0mmodel\u001b[0m\u001b[0;34m.\u001b[0m\u001b[0mw_out\u001b[0m \u001b[0;34m@\u001b[0m \u001b[0mmodel\u001b[0m\u001b[0;34m.\u001b[0m\u001b[0mr\u001b[0m\u001b[0;34m)\u001b[0m\u001b[0;34m\u001b[0m\u001b[0m\n\u001b[1;32m    117\u001b[0m \u001b[0;34m\u001b[0m\u001b[0m\n",
      "\u001b[0;32m<ipython-input-1-9d8d97229717>\u001b[0m in \u001b[0;36mtrain_step\u001b[0;34m(self, p)\u001b[0m\n\u001b[1;32m     87\u001b[0m         \u001b[0;32mfor\u001b[0m \u001b[0mi\u001b[0m \u001b[0;32min\u001b[0m \u001b[0mrange\u001b[0m\u001b[0;34m(\u001b[0m\u001b[0mself\u001b[0m\u001b[0;34m.\u001b[0m\u001b[0mepoch_steps\u001b[0m\u001b[0;34m)\u001b[0m\u001b[0;34m:\u001b[0m\u001b[0;34m\u001b[0m\u001b[0m\n\u001b[1;32m     88\u001b[0m \u001b[0;34m\u001b[0m\u001b[0m\n\u001b[0;32m---> 89\u001b[0;31m             \u001b[0mself\u001b[0m\u001b[0;34m.\u001b[0m\u001b[0msingle_step\u001b[0m\u001b[0;34m(\u001b[0m\u001b[0;34m)\u001b[0m\u001b[0;34m\u001b[0m\u001b[0m\n\u001b[0m\u001b[1;32m     90\u001b[0m \u001b[0;34m\u001b[0m\u001b[0m\n\u001b[1;32m     91\u001b[0m \u001b[0;31m#             self.x += self.dt * ( -self.x + self.w @ np.tanh(self.x) + self.w_rec * self.z )\u001b[0m\u001b[0;34m\u001b[0m\u001b[0;34m\u001b[0m\u001b[0m\n",
      "\u001b[0;32m<ipython-input-1-9d8d97229717>\u001b[0m in \u001b[0;36msingle_step\u001b[0;34m(self)\u001b[0m\n\u001b[1;32m     76\u001b[0m \u001b[0;34m\u001b[0m\u001b[0m\n\u001b[1;32m     77\u001b[0m     \u001b[0;32mdef\u001b[0m \u001b[0msingle_step\u001b[0m\u001b[0;34m(\u001b[0m\u001b[0mself\u001b[0m\u001b[0;34m)\u001b[0m\u001b[0;34m:\u001b[0m\u001b[0;34m\u001b[0m\u001b[0m\n\u001b[0;32m---> 78\u001b[0;31m         \u001b[0mself\u001b[0m\u001b[0;34m.\u001b[0m\u001b[0mx\u001b[0m \u001b[0;34m+=\u001b[0m \u001b[0mself\u001b[0m\u001b[0;34m.\u001b[0m\u001b[0mdt\u001b[0m \u001b[0;34m*\u001b[0m \u001b[0;34m(\u001b[0m \u001b[0;34m-\u001b[0m\u001b[0mself\u001b[0m\u001b[0;34m.\u001b[0m\u001b[0mx\u001b[0m \u001b[0;34m+\u001b[0m \u001b[0mself\u001b[0m\u001b[0;34m.\u001b[0m\u001b[0mw\u001b[0m \u001b[0;34m@\u001b[0m \u001b[0mnp\u001b[0m\u001b[0;34m.\u001b[0m\u001b[0mtanh\u001b[0m\u001b[0;34m(\u001b[0m\u001b[0mself\u001b[0m\u001b[0;34m.\u001b[0m\u001b[0mx\u001b[0m\u001b[0;34m)\u001b[0m \u001b[0;34m+\u001b[0m \u001b[0mself\u001b[0m\u001b[0;34m.\u001b[0m\u001b[0mw_rec\u001b[0m \u001b[0;34m*\u001b[0m \u001b[0mself\u001b[0m\u001b[0;34m.\u001b[0m\u001b[0mz\u001b[0m \u001b[0;34m)\u001b[0m\u001b[0;34m\u001b[0m\u001b[0m\n\u001b[0m\u001b[1;32m     79\u001b[0m         \u001b[0mself\u001b[0m\u001b[0;34m.\u001b[0m\u001b[0mr\u001b[0m \u001b[0;34m=\u001b[0m \u001b[0mnp\u001b[0m\u001b[0;34m.\u001b[0m\u001b[0mtanh\u001b[0m\u001b[0;34m(\u001b[0m\u001b[0mself\u001b[0m\u001b[0;34m.\u001b[0m\u001b[0mx\u001b[0m\u001b[0;34m)\u001b[0m\u001b[0;34m\u001b[0m\u001b[0m\n\u001b[1;32m     80\u001b[0m         \u001b[0mself\u001b[0m\u001b[0;34m.\u001b[0m\u001b[0mz\u001b[0m \u001b[0;34m=\u001b[0m \u001b[0mself\u001b[0m\u001b[0;34m.\u001b[0m\u001b[0mw_out\u001b[0m \u001b[0;34m@\u001b[0m \u001b[0mself\u001b[0m\u001b[0;34m.\u001b[0m\u001b[0mr\u001b[0m\u001b[0;34m\u001b[0m\u001b[0m\n",
      "\u001b[0;31mAttributeError\u001b[0m: 'Model' object has no attribute 'w_rec'"
     ]
    }
   ],
   "source": [
    "import numpy as np\n",
    "\n",
    "\n",
    "def Target(x):\n",
    "    #The function we're trying to fit\n",
    "    scale = 2*np.pi/10\n",
    "    return np.sin(scale*x)\n",
    "\n",
    "\n",
    "\n",
    "\n",
    "class Optimizer():\n",
    "    def __init__(self,num_neurons=50,alpha=3,dt=0.01):\n",
    "        self.P = 1/alpha * np.eye(num_neurons)\n",
    "        self.alpha = alpha\n",
    "        self.eta = 2e-3\n",
    "        self.gamma = 2\n",
    "        self.dt = dt\n",
    "        \n",
    "    def update(self,weights,state,target):\n",
    "        \n",
    "#         error = (weights.T @ state - target)\n",
    "#         weights -= error * (self.P @ state) / (1 + state.T @ self.P @ state)\n",
    "#         self.P -= ( (self.P @ state) @ (state.T @ self.P)\n",
    "#                     / (1 + state.T @ self.P @ state) )\n",
    "        \n",
    "        error = (weights.T @ state - target)\n",
    "        weights -= self.eta * error * state\n",
    "        self.eta += self.dt * self.eta * ( -self.eta + np.abs(error)**self.gamma )\n",
    "        \n",
    "        \n",
    "        return weights, error\n",
    "        \n",
    "\n",
    "        \n",
    "        \n",
    "class Model():\n",
    "    def __init__(self, n, tau = 1000000, t_unroll = 1, t_epoch = 5, init_scale = None, alpha=3, nl = 'tanh',bias=False):\n",
    "        \n",
    "        self.t = 0\n",
    "        \n",
    "        self.dt = 0.01\n",
    "        self.epoch_steps = 2\n",
    "        \n",
    "        self.tau = tau\n",
    "        \n",
    "        self.t_unroll = t_unroll\n",
    "        self.t_epoch = t_epoch\n",
    "        \n",
    "        self.n = n;\n",
    "        self.nl = nl\n",
    "\n",
    "        if init_scale is None:\n",
    "            self.init_scale = 1.5 / np.sqrt(n)\n",
    "        else:\n",
    "            self.init_scale = init_scale;\n",
    "        \n",
    "        p_sparse = 0.1\n",
    "        self.w = np.zeros([self.n,self.n]);\n",
    "        self.w = np.random.randn(len(self.w),len(self.w)) * self.init_scale;\n",
    "#         self.w *= (np.random.rand(self.w.shape[0],self.w.shape[1]) < p_sparse).astype(float)\n",
    "        self.w_out = np.zeros(n)\n",
    "        self.w_rec = np.random.randn(n)\n",
    "        if nl == 'tanh':\n",
    "            self.x = np.tanh(np.random.randn(len(self.w)))\n",
    "            self.r = np.tanh(self.x)\n",
    "\n",
    "        if not bias:\n",
    "            self.b = np.zeros(len(self.w));\n",
    "        else:\n",
    "            self.b = np.random.randn(len(self.w)) * self.init_scale;\n",
    "            \n",
    "        self.optim = Optimizer(n,alpha=alpha,dt=self.dt)\n",
    "        self.z = 0\n",
    "        \n",
    "    \n",
    "    def single_step(self):\n",
    "        self.x += self.dt * ( -self.x + self.w @ np.tanh(self.x) + self.w_rec * self.z )\n",
    "        self.r = np.tanh(self.x)\n",
    "        self.z = self.w_out @ self.r\n",
    "        self.t += self.dt\n",
    "    \n",
    "    def train_step(self,p=False):\n",
    "        \n",
    "        xs = []\n",
    "        self.z = 0\n",
    "        for i in range(self.epoch_steps):\n",
    "            \n",
    "            self.single_step()\n",
    "            \n",
    "#             self.x += self.dt * ( -self.x + self.w @ np.tanh(self.x) + self.w_rec * self.z )\n",
    "#             r = np.tanh(self.x)\n",
    "#             self.z = self.w_out @ r\n",
    "#             self.t += self.dt\n",
    "            xs.append(np.array(r))\n",
    "        \n",
    "#         bp()\n",
    "        target = Target(self.t)\n",
    "#         print('TARGET: ',target)\n",
    "        self.w_out, error = self.optim.update(self.w_out,self.r,target)\n",
    "#         bp()\n",
    "        if p:\n",
    "            print('Target: {} \\t Pred: {} \\t Error: {}'.format(target,self.w_out @ self.r,error))\n",
    "        return xs\n",
    "    \n",
    "model = Model(n=1000,alpha=100)\n",
    "\n",
    "xs = []\n",
    "zs = []\n",
    "w_dots = []\n",
    "num_steps = 300000\n",
    "w_last = np.zeros(1000)\n",
    "for i in range(num_steps):\n",
    "#     xs +=  model.train_step(p=False)\n",
    "    model.train_step(p=False)\n",
    "    zs.append(model.w_out @ model.r)\n",
    "    \n",
    "    delta = ((w_last - model.w_out)**2).sum()\n",
    "    w_last = np.array(model.w_out)\n",
    "    \n",
    "    w_dots.append(delta)\n",
    "#     print('W_max: ',model.w_out.max())\n",
    "#     print('P_max: ',model.optim.P.max())\n",
    "    \n",
    "#     print(model.optim.P_nis.max())\n",
    "#     print(model.optim.P_nis.max())\n",
    "    \n",
    "# xs = np.concatenate(xs,0)\n",
    "# xs = xs.reshape(200,-1)\n",
    "\n",
    "\n",
    "# Xs = np.zeros((100,6000))\n",
    "# for n in range(100):\n",
    "#     for t in range(6000):\n",
    "#         Xs[n,t] = xs[t][n]"
   ]
  },
  {
   "cell_type": "code",
   "execution_count": null,
   "metadata": {},
   "outputs": [],
   "source": [
    "ff()\n",
    "ts = model.epoch_steps*np.arange(num_steps)*model.dt\n",
    "plt.plot(ts,zs)\n",
    "plt.plot(ts,Target(ts))"
   ]
  },
  {
   "cell_type": "code",
   "execution_count": null,
   "metadata": {},
   "outputs": [],
   "source": [
    "ff()\n",
    "plt.plot(w_dots)"
   ]
  },
  {
   "cell_type": "code",
   "execution_count": null,
   "metadata": {},
   "outputs": [],
   "source": [
    "num_steps = int(1e5)\n",
    "Xs = np.zeros((1000,num_steps))\n",
    "for i in range(num_steps):\n",
    "    model.single_step()\n",
    "    Xs[:,i] = np.array(model.r)"
   ]
  },
  {
   "cell_type": "code",
   "execution_count": null,
   "metadata": {},
   "outputs": [],
   "source": [
    "ff()\n",
    "plt.plot(model.w_out @ Xs[:,-10000:])"
   ]
  },
  {
   "cell_type": "code",
   "execution_count": null,
   "metadata": {},
   "outputs": [],
   "source": [
    "model.w_out"
   ]
  },
  {
   "cell_type": "code",
   "execution_count": null,
   "metadata": {},
   "outputs": [],
   "source": [
    "ff()\n",
    "plt.plot(model.w_out @ np.tanh(Xs))"
   ]
  },
  {
   "cell_type": "code",
   "execution_count": null,
   "metadata": {},
   "outputs": [],
   "source": [
    "ff()\n",
    "plt.plot(Xs[:10,:].T);"
   ]
  },
  {
   "cell_type": "code",
   "execution_count": null,
   "metadata": {},
   "outputs": [],
   "source": [
    "ff()\n",
    "plt.plot(Xs[:10,::100].T);"
   ]
  },
  {
   "cell_type": "code",
   "execution_count": null,
   "metadata": {},
   "outputs": [],
   "source": [
    "ff()\n",
    "# plt.plot(xs[0,:100]);\n",
    "plt.plot(xs[:,:10]);\n",
    "# plt.plot(xs[-1]);"
   ]
  },
  {
   "cell_type": "code",
   "execution_count": 2,
   "metadata": {},
   "outputs": [
    {
     "ename": "NameError",
     "evalue": "name 't' is not defined",
     "output_type": "error",
     "traceback": [
      "\u001b[0;31m---------------------------------------------------------------------------\u001b[0m",
      "\u001b[0;31mNameError\u001b[0m                                 Traceback (most recent call last)",
      "\u001b[0;32m<ipython-input-2-e06cae87547b>\u001b[0m in \u001b[0;36m<module>\u001b[0;34m()\u001b[0m\n\u001b[0;32m----> 1\u001b[0;31m \u001b[0mxs\u001b[0m\u001b[0;34m[\u001b[0m\u001b[0mt\u001b[0m\u001b[0;34m]\u001b[0m\u001b[0;34m.\u001b[0m\u001b[0mshape\u001b[0m\u001b[0;34m\u001b[0m\u001b[0m\n\u001b[0m",
      "\u001b[0;31mNameError\u001b[0m: name 't' is not defined"
     ]
    }
   ],
   "source": [
    "xs[t].shape"
   ]
  },
  {
   "cell_type": "code",
   "execution_count": 3,
   "metadata": {},
   "outputs": [
    {
     "data": {
      "text/plain": [
       "array([[ -5.05275245e-02,   1.18157637e-02,  -1.28787689e-02,\n",
       "          2.01324343e-02,  -3.08308132e-02],\n",
       "       [  3.88385015e-02,   1.60853267e-02,   5.70038527e-03,\n",
       "         -1.10569452e-02,  -1.72847017e-02],\n",
       "       [ -8.11710741e-02,   6.18824569e-02,  -2.47858625e-02,\n",
       "          1.09054348e-01,   2.65269301e-02],\n",
       "       [  8.61920480e-02,   6.18540538e-02,  -1.08063404e-02,\n",
       "         -1.07155321e-01,   5.42531613e-03],\n",
       "       [ -3.75514784e-02,  -1.46436957e-02,   2.05498687e-05,\n",
       "         -3.33912390e-02,   8.76638082e-03]])"
      ]
     },
     "execution_count": 3,
     "metadata": {},
     "output_type": "execute_result"
    }
   ],
   "source": [
    "model.w[:5,:5]"
   ]
  },
  {
   "cell_type": "code",
   "execution_count": 4,
   "metadata": {},
   "outputs": [
    {
     "ename": "AttributeError",
     "evalue": "'list' object has no attribute 'shape'",
     "output_type": "error",
     "traceback": [
      "\u001b[0;31m---------------------------------------------------------------------------\u001b[0m",
      "\u001b[0;31mAttributeError\u001b[0m                            Traceback (most recent call last)",
      "\u001b[0;32m<ipython-input-4-19a052d1c630>\u001b[0m in \u001b[0;36m<module>\u001b[0;34m()\u001b[0m\n\u001b[0;32m----> 1\u001b[0;31m \u001b[0mxs\u001b[0m\u001b[0;34m.\u001b[0m\u001b[0mshape\u001b[0m\u001b[0;34m\u001b[0m\u001b[0m\n\u001b[0m",
      "\u001b[0;31mAttributeError\u001b[0m: 'list' object has no attribute 'shape'"
     ]
    }
   ],
   "source": [
    "xs.shape"
   ]
  },
  {
   "cell_type": "code",
   "execution_count": 5,
   "metadata": {},
   "outputs": [
    {
     "ename": "AttributeError",
     "evalue": "'list' object has no attribute 'shape'",
     "output_type": "error",
     "traceback": [
      "\u001b[0;31m---------------------------------------------------------------------------\u001b[0m",
      "\u001b[0;31mAttributeError\u001b[0m                            Traceback (most recent call last)",
      "\u001b[0;32m<ipython-input-5-19a052d1c630>\u001b[0m in \u001b[0;36m<module>\u001b[0;34m()\u001b[0m\n\u001b[0;32m----> 1\u001b[0;31m \u001b[0mxs\u001b[0m\u001b[0;34m.\u001b[0m\u001b[0mshape\u001b[0m\u001b[0;34m\u001b[0m\u001b[0m\n\u001b[0m",
      "\u001b[0;31mAttributeError\u001b[0m: 'list' object has no attribute 'shape'"
     ]
    }
   ],
   "source": [
    "xs.shape"
   ]
  },
  {
   "cell_type": "code",
   "execution_count": 87,
   "metadata": {},
   "outputs": [
    {
     "data": {
      "text/plain": [
       "[<matplotlib.lines.Line2D at 0x11121f400>]"
      ]
     },
     "execution_count": 87,
     "metadata": {},
     "output_type": "execute_result"
    },
    {
     "data": {
      "image/png": "[encoded data removed]",
      "text/plain": [
       "<Figure size 432x288 with 1 Axes>"
      ]
     },
     "metadata": {},
     "output_type": "display_data"
    }
   ],
   "source": [
    "ff()\n",
    "plt.plot(xs)"
   ]
  },
  {
   "cell_type": "code",
   "execution_count": 94,
   "metadata": {},
   "outputs": [
    {
     "data": {
      "text/plain": [
       "(200, 100)"
      ]
     },
     "execution_count": 94,
     "metadata": {},
     "output_type": "execute_result"
    }
   ],
   "source": [
    "xs.shape"
   ]
  },
  {
   "cell_type": "code",
   "execution_count": 95,
   "metadata": {},
   "outputs": [
    {
     "data": {
      "text/plain": [
       "array([-0.38814344,  0.14255764,  0.08641838,  0.58305372, -0.16697184,\n",
       "        0.0981127 ,  0.4049165 , -0.20253188,  0.17197042,  0.08744392,\n",
       "        0.32310177,  0.58294796, -0.17835074, -0.08940382, -0.00959261,\n",
       "       -0.36292511, -0.41641393,  0.44806332, -0.45115312, -0.12328354,\n",
       "       -0.11252746,  0.22617289,  0.07829516,  0.00365692, -0.66235849,\n",
       "       -0.36080686, -0.25245097, -0.0413093 ,  0.18549492,  0.27391926,\n",
       "        0.25267533, -0.08319484,  0.032653  , -0.26002525,  0.09625344,\n",
       "       -0.42680147,  0.01642957, -0.47193278,  0.01220463, -0.04301395,\n",
       "        0.15286871, -0.01575488, -0.50608666,  0.21870263, -0.05299965,\n",
       "        0.13755121,  0.43235302,  0.12833453,  0.12672289, -0.13010396,\n",
       "       -0.01597645, -0.29322136,  0.55008237,  0.1309918 ,  0.00677021,\n",
       "       -0.08587418, -0.18825136,  0.06602917,  0.11086122,  0.40976202,\n",
       "       -0.23818865, -0.41994983,  0.25408803, -0.40024099,  0.59474961,\n",
       "        0.09985365, -0.17029461,  0.38925923,  0.04936381, -0.15035291,\n",
       "       -0.0237459 , -0.31548844, -0.10978495, -0.34876618,  0.40956778,\n",
       "        0.20360202, -0.45244829, -0.1041625 , -0.07345691,  0.09214702,\n",
       "        0.13033539, -0.18427079,  0.24775465,  0.38560909,  0.02949169,\n",
       "       -0.00361144,  0.20692667, -0.03587067, -0.14129666,  0.15839179,\n",
       "        0.04410313,  0.14600586, -0.16271166, -0.4041576 , -0.13215186,\n",
       "        0.182314  ,  0.28436627, -0.09240144,  0.28536799, -0.13622582])"
      ]
     },
     "execution_count": 95,
     "metadata": {},
     "output_type": "execute_result"
    }
   ],
   "source": [
    "xs[-1]"
   ]
  },
  {
   "cell_type": "code",
   "execution_count": 66,
   "metadata": {},
   "outputs": [
    {
     "data": {
      "text/plain": [
       "array([[nan, nan, nan, ..., nan, nan, nan],\n",
       "       [nan, nan, nan, ..., nan, nan, nan],\n",
       "       [nan, nan, nan, ..., nan, nan, nan],\n",
       "       ...,\n",
       "       [nan, nan, nan, ..., nan, nan, nan],\n",
       "       [nan, nan, nan, ..., nan, nan, nan],\n",
       "       [nan, nan, nan, ..., nan, nan, nan]])"
      ]
     },
     "execution_count": 66,
     "metadata": {},
     "output_type": "execute_result"
    }
   ],
   "source": [
    "model.optim.P_nis"
   ]
  },
  {
   "cell_type": "code",
   "execution_count": 7,
   "metadata": {},
   "outputs": [
    {
     "data": {
      "text/plain": [
       "[<matplotlib.lines.Line2D at 0x113ce2b70>]"
      ]
     },
     "execution_count": 7,
     "metadata": {},
     "output_type": "execute_result"
    },
    {
     "data": {
      "image/png": "[encoded data removed]",
      "text/plain": [
       "<Figure size 432x288 with 1 Axes>"
      ]
     },
     "metadata": {},
     "output_type": "display_data"
    }
   ],
   "source": [
    "ff()\n",
    "plt.plot(xs[:,2])"
   ]
  },
  {
   "cell_type": "code",
   "execution_count": 45,
   "metadata": {},
   "outputs": [],
   "source": [
    "\n",
    "vs = np.random.randn(100)\n",
    "W = np.random.randn(100,100) / 2\n",
    "\n",
    "dt = 0.001\n",
    "\n",
    "Vs = []\n",
    "for i in range(10000):\n",
    "    vs += dt * (-vs + W @ np.tanh(vs))\n",
    "    Vs.append(np.array(vs))\n",
    "    \n",
    "Vs = np.concatenate(Vs,0)\n",
    "Vs = Vs.reshape(100,-1)\n",
    "# Vs = np.array(Vs)"
   ]
  },
  {
   "cell_type": "code",
   "execution_count": 46,
   "metadata": {},
   "outputs": [
    {
     "data": {
      "image/png": "[encoded data removed]",
      "text/plain": [
       "<Figure size 432x288 with 1 Axes>"
      ]
     },
     "metadata": {},
     "output_type": "display_data"
    }
   ],
   "source": [
    "ff()\n",
    "plt.plot(Vs[:,:10:]);"
   ]
  },
  {
   "cell_type": "code",
   "execution_count": 13,
   "metadata": {},
   "outputs": [
    {
     "data": {
      "image/png": "[encoded data removed]",
      "text/plain": [
       "<Figure size 432x288 with 1 Axes>"
      ]
     },
     "metadata": {},
     "output_type": "display_data"
    }
   ],
   "source": [
    "ff()\n",
    "plt.plot(Vs[0]);\n",
    "plt.plot(Vs[-1]);"
   ]
  },
  {
   "cell_type": "code",
   "execution_count": null,
   "metadata": {},
   "outputs": [],
   "source": [
    "Vs.shape"
   ]
  },
  {
   "cell_type": "code",
   "execution_count": 46,
   "metadata": {},
   "outputs": [
    {
     "data": {
      "image/png": "[encoded data removed]",
      "text/plain": [
       "<Figure size 432x288 with 1 Axes>"
      ]
     },
     "metadata": {},
     "output_type": "display_data"
    }
   ],
   "source": [
    "ff()\n",
    "plt.plot(Vs[0]);"
   ]
  },
  {
   "cell_type": "code",
   "execution_count": 34,
   "metadata": {},
   "outputs": [
    {
     "data": {
      "text/plain": [
       "[<matplotlib.lines.Line2D at 0x120e05128>]"
      ]
     },
     "execution_count": 34,
     "metadata": {},
     "output_type": "execute_result"
    },
    {
     "data": {
      "image/png": "[encoded data removed]",
      "text/plain": [
       "<Figure size 432x288 with 1 Axes>"
      ]
     },
     "metadata": {},
     "output_type": "display_data"
    }
   ],
   "source": [
    "ff()\n",
    "plt.plot(Vs[:,6])"
   ]
  },
  {
   "cell_type": "code",
   "execution_count": 35,
   "metadata": {},
   "outputs": [
    {
     "data": {
      "text/plain": [
       "array([ 0.37245286,  0.39140125,  0.44641935,  0.79551295, -0.25349822,\n",
       "       -0.18114541, -1.26856749, -0.91283271, -0.43440751, -0.44130438,\n",
       "        0.01068899, -0.07867082,  0.88536113, -0.34165723, -0.0216271 ,\n",
       "       -0.02709005, -0.55971562, -0.96193698,  0.62537809, -1.09029455,\n",
       "        0.42000477, -0.36065746,  0.04193269,  0.21036185,  0.32606332,\n",
       "        0.16711056,  0.40824519, -0.94857119, -0.34577645, -0.01549361,\n",
       "       -0.80554468,  0.34022243, -0.06808106, -0.00975835,  0.27183961,\n",
       "        0.71891353, -0.7482267 , -0.25441804, -0.25735691, -0.63723461,\n",
       "       -0.17287484,  1.65240521, -0.28505318, -0.1142222 , -1.36015525,\n",
       "        0.43782867, -0.46400696,  0.72359261, -0.37081609,  0.70514315,\n",
       "       -0.18682831,  0.31762471,  0.43884483, -0.86815625,  0.61455927,\n",
       "        0.08411614,  1.02347434,  0.61927532, -0.13869904, -0.71945202,\n",
       "        0.27869377, -0.04396563,  0.23513719, -0.52938953, -0.18815147,\n",
       "        0.12208103,  0.10546928, -0.20679982,  0.23637189,  0.59840223,\n",
       "       -0.52477435,  0.45632774,  0.60811805,  0.29440705,  0.67511837,\n",
       "        1.01749986,  0.56647519,  0.13005819,  0.39492586, -0.33743568,\n",
       "        0.1348242 , -0.91563768,  0.23457795, -0.51525968, -0.23873776,\n",
       "       -0.07084784, -0.33189232,  0.28698972, -0.47809034,  0.12417935,\n",
       "        0.32523068,  0.46609649,  0.00851203,  1.04921555,  0.36581757,\n",
       "        0.05574053, -0.09771342,  0.5350995 , -0.30893902,  0.12235091])"
      ]
     },
     "execution_count": 35,
     "metadata": {},
     "output_type": "execute_result"
    }
   ],
   "source": [
    "vs"
   ]
  },
  {
   "cell_type": "code",
   "execution_count": 40,
   "metadata": {},
   "outputs": [
    {
     "data": {
      "text/plain": [
       "array([1, 2, 3, 4])"
      ]
     },
     "execution_count": 40,
     "metadata": {},
     "output_type": "execute_result"
    }
   ],
   "source": [
    "np.concatenate([[1,2],[3,4]],0)"
   ]
  },
  {
   "cell_type": "code",
   "execution_count": 41,
   "metadata": {},
   "outputs": [
    {
     "data": {
      "text/plain": [
       "array([-1.76535384e-05,  1.79697660e-06, -3.38402479e-05,  5.49850415e-05,\n",
       "        6.61298420e-06,  6.96324560e-06,  2.54949095e-06,  8.51616123e-07,\n",
       "       -6.02253457e-06, -1.00168641e-05,  1.45671187e-05,  7.37178675e-06,\n",
       "       -8.43517551e-06, -9.58498201e-07, -3.42198291e-06,  4.08022492e-06,\n",
       "        1.83833750e-05,  1.16671495e-05,  2.85185346e-05,  1.31581649e-06,\n",
       "       -1.63962268e-05, -2.10969340e-06, -3.42353002e-06, -6.10251376e-06,\n",
       "       -3.12514545e-05, -2.77074730e-05, -9.52898018e-06, -7.74010356e-06,\n",
       "       -1.78851487e-05, -4.31088780e-06, -2.04016599e-05,  4.20222388e-06,\n",
       "        5.43207010e-06, -3.18368735e-05, -1.11248783e-05,  2.28592431e-05,\n",
       "        1.64174769e-05, -5.57456502e-07,  3.14603007e-06,  1.19156509e-05,\n",
       "       -4.43775049e-05, -1.30085911e-05, -7.18481835e-06, -7.40444751e-06,\n",
       "        2.08379818e-05,  8.43352788e-06,  1.51601848e-05,  4.48469804e-06,\n",
       "       -1.83208044e-05, -4.82603929e-06,  4.08342431e-05, -1.47477573e-06,\n",
       "        2.69483801e-05,  2.22170457e-05, -2.19939208e-06, -1.43228214e-05,\n",
       "       -7.63156147e-06,  1.41128828e-05, -2.91305639e-05,  2.99019587e-05,\n",
       "       -2.11177224e-05, -7.69717193e-06, -4.33490023e-06,  4.60910934e-05,\n",
       "        2.64612333e-05,  1.25160587e-05,  2.82099729e-05,  1.69681573e-06,\n",
       "        1.70037707e-05,  2.80700048e-06, -2.01555389e-05,  2.58805207e-06,\n",
       "        2.87007830e-06, -3.06195722e-06, -5.08382090e-06, -1.34709057e-05,\n",
       "        3.29673259e-05,  6.03507652e-06, -3.85403316e-06, -4.47758038e-05,\n",
       "       -2.85936255e-06, -1.98040654e-05,  3.68656629e-05,  2.08614325e-05,\n",
       "        9.29942416e-06,  1.34564913e-05,  4.38333693e-06,  4.75085138e-06,\n",
       "       -4.79613256e-06,  1.18922374e-06,  6.38783771e-06,  5.48694028e-05,\n",
       "        1.14392463e-05, -1.94223713e-05, -2.95573983e-06,  2.11748817e-05,\n",
       "        2.07420251e-05,  4.71375860e-06,  1.13132492e-05,  2.94167325e-05])"
      ]
     },
     "execution_count": 41,
     "metadata": {},
     "output_type": "execute_result"
    }
   ],
   "source": [
    "dt * (-vs + W @ np.tanh(vs))"
   ]
  },
  {
   "cell_type": "code",
   "execution_count": null,
   "metadata": {},
   "outputs": [],
   "source": []
  },
  {
   "cell_type": "code",
   "execution_count": 142,
   "metadata": {},
   "outputs": [],
   "source": [
    "P = np.eye(100)/5\n",
    "\n",
    "L = 1\n",
    "for i in range(10):\n",
    "    r = np.random.randn(100)\n",
    "    P = P/L - (P@r) @ (r@P) / (L + r@P@r) / L"
   ]
  },
  {
   "cell_type": "code",
   "execution_count": 143,
   "metadata": {},
   "outputs": [
    {
     "data": {
      "text/plain": [
       "array([[2.92308757e+17, 2.92308757e+17, 2.92308757e+17, ...,\n",
       "        2.92308757e+17, 2.92308757e+17, 2.92308757e+17],\n",
       "       [2.92308757e+17, 2.92308757e+17, 2.92308757e+17, ...,\n",
       "        2.92308757e+17, 2.92308757e+17, 2.92308757e+17],\n",
       "       [2.92308757e+17, 2.92308757e+17, 2.92308757e+17, ...,\n",
       "        2.92308757e+17, 2.92308757e+17, 2.92308757e+17],\n",
       "       ...,\n",
       "       [2.92308757e+17, 2.92308757e+17, 2.92308757e+17, ...,\n",
       "        2.92308757e+17, 2.92308757e+17, 2.92308757e+17],\n",
       "       [2.92308757e+17, 2.92308757e+17, 2.92308757e+17, ...,\n",
       "        2.92308757e+17, 2.92308757e+17, 2.92308757e+17],\n",
       "       [2.92308757e+17, 2.92308757e+17, 2.92308757e+17, ...,\n",
       "        2.92308757e+17, 2.92308757e+17, 2.92308757e+17]])"
      ]
     },
     "execution_count": 143,
     "metadata": {},
     "output_type": "execute_result"
    }
   ],
   "source": [
    "P"
   ]
  },
  {
   "cell_type": "code",
   "execution_count": 138,
   "metadata": {},
   "outputs": [
    {
     "ename": "LinAlgError",
     "evalue": "Singular matrix",
     "output_type": "error",
     "traceback": [
      "\u001b[0;31m---------------------------------------------------------------------------\u001b[0m",
      "\u001b[0;31mLinAlgError\u001b[0m                               Traceback (most recent call last)",
      "\u001b[0;32m<ipython-input-138-05fe5409b36d>\u001b[0m in \u001b[0;36m<module>\u001b[0;34m()\u001b[0m\n\u001b[1;32m      1\u001b[0m \u001b[0mn\u001b[0m \u001b[0;34m=\u001b[0m \u001b[0;36m100\u001b[0m\u001b[0;34m\u001b[0m\u001b[0m\n\u001b[1;32m      2\u001b[0m \u001b[0;34m\u001b[0m\u001b[0m\n\u001b[0;32m----> 3\u001b[0;31m \u001b[0mnp\u001b[0m\u001b[0;34m.\u001b[0m\u001b[0mlinalg\u001b[0m\u001b[0;34m.\u001b[0m\u001b[0minv\u001b[0m\u001b[0;34m(\u001b[0m\u001b[0mn\u001b[0m \u001b[0;34m*\u001b[0m \u001b[0mnp\u001b[0m\u001b[0;34m.\u001b[0m\u001b[0mones\u001b[0m\u001b[0;34m(\u001b[0m\u001b[0;34m(\u001b[0m\u001b[0;36m100\u001b[0m\u001b[0;34m,\u001b[0m\u001b[0;36m100\u001b[0m\u001b[0;34m)\u001b[0m\u001b[0;34m)\u001b[0m\u001b[0;34m)\u001b[0m\u001b[0;34m\u001b[0m\u001b[0m\n\u001b[0m",
      "\u001b[0;32m/anaconda3/lib/python3.6/site-packages/numpy/linalg/linalg.py\u001b[0m in \u001b[0;36minv\u001b[0;34m(a)\u001b[0m\n\u001b[1;32m    526\u001b[0m     \u001b[0msignature\u001b[0m \u001b[0;34m=\u001b[0m \u001b[0;34m'D->D'\u001b[0m \u001b[0;32mif\u001b[0m \u001b[0misComplexType\u001b[0m\u001b[0;34m(\u001b[0m\u001b[0mt\u001b[0m\u001b[0;34m)\u001b[0m \u001b[0;32melse\u001b[0m \u001b[0;34m'd->d'\u001b[0m\u001b[0;34m\u001b[0m\u001b[0m\n\u001b[1;32m    527\u001b[0m     \u001b[0mextobj\u001b[0m \u001b[0;34m=\u001b[0m \u001b[0mget_linalg_error_extobj\u001b[0m\u001b[0;34m(\u001b[0m\u001b[0m_raise_linalgerror_singular\u001b[0m\u001b[0;34m)\u001b[0m\u001b[0;34m\u001b[0m\u001b[0m\n\u001b[0;32m--> 528\u001b[0;31m     \u001b[0mainv\u001b[0m \u001b[0;34m=\u001b[0m \u001b[0m_umath_linalg\u001b[0m\u001b[0;34m.\u001b[0m\u001b[0minv\u001b[0m\u001b[0;34m(\u001b[0m\u001b[0ma\u001b[0m\u001b[0;34m,\u001b[0m \u001b[0msignature\u001b[0m\u001b[0;34m=\u001b[0m\u001b[0msignature\u001b[0m\u001b[0;34m,\u001b[0m \u001b[0mextobj\u001b[0m\u001b[0;34m=\u001b[0m\u001b[0mextobj\u001b[0m\u001b[0;34m)\u001b[0m\u001b[0;34m\u001b[0m\u001b[0m\n\u001b[0m\u001b[1;32m    529\u001b[0m     \u001b[0;32mreturn\u001b[0m \u001b[0mwrap\u001b[0m\u001b[0;34m(\u001b[0m\u001b[0mainv\u001b[0m\u001b[0;34m.\u001b[0m\u001b[0mastype\u001b[0m\u001b[0;34m(\u001b[0m\u001b[0mresult_t\u001b[0m\u001b[0;34m,\u001b[0m \u001b[0mcopy\u001b[0m\u001b[0;34m=\u001b[0m\u001b[0;32mFalse\u001b[0m\u001b[0;34m)\u001b[0m\u001b[0;34m)\u001b[0m\u001b[0;34m\u001b[0m\u001b[0m\n\u001b[1;32m    530\u001b[0m \u001b[0;34m\u001b[0m\u001b[0m\n",
      "\u001b[0;32m/anaconda3/lib/python3.6/site-packages/numpy/linalg/linalg.py\u001b[0m in \u001b[0;36m_raise_linalgerror_singular\u001b[0;34m(err, flag)\u001b[0m\n\u001b[1;32m     87\u001b[0m \u001b[0;34m\u001b[0m\u001b[0m\n\u001b[1;32m     88\u001b[0m \u001b[0;32mdef\u001b[0m \u001b[0m_raise_linalgerror_singular\u001b[0m\u001b[0;34m(\u001b[0m\u001b[0merr\u001b[0m\u001b[0;34m,\u001b[0m \u001b[0mflag\u001b[0m\u001b[0;34m)\u001b[0m\u001b[0;34m:\u001b[0m\u001b[0;34m\u001b[0m\u001b[0m\n\u001b[0;32m---> 89\u001b[0;31m     \u001b[0;32mraise\u001b[0m \u001b[0mLinAlgError\u001b[0m\u001b[0;34m(\u001b[0m\u001b[0;34m\"Singular matrix\"\u001b[0m\u001b[0;34m)\u001b[0m\u001b[0;34m\u001b[0m\u001b[0m\n\u001b[0m\u001b[1;32m     90\u001b[0m \u001b[0;34m\u001b[0m\u001b[0m\n\u001b[1;32m     91\u001b[0m \u001b[0;32mdef\u001b[0m \u001b[0m_raise_linalgerror_nonposdef\u001b[0m\u001b[0;34m(\u001b[0m\u001b[0merr\u001b[0m\u001b[0;34m,\u001b[0m \u001b[0mflag\u001b[0m\u001b[0;34m)\u001b[0m\u001b[0;34m:\u001b[0m\u001b[0;34m\u001b[0m\u001b[0m\n",
      "\u001b[0;31mLinAlgError\u001b[0m: Singular matrix"
     ]
    }
   ],
   "source": [
    "n = 100\n",
    "\n",
    "np.linalg.inv(n * np.ones((100,100)))"
   ]
  },
  {
   "cell_type": "code",
   "execution_count": null,
   "metadata": {},
   "outputs": [],
   "source": []
  }
 ],
 "metadata": {
  "kernelspec": {
   "display_name": "Python 3",
   "language": "python",
   "name": "python3"
  },
  "language_info": {
   "codemirror_mode": {
    "name": "ipython",
    "version": 3
   },
   "file_extension": ".py",
   "mimetype": "text/x-python",
   "name": "python",
   "nbconvert_exporter": "python",
   "pygments_lexer": "ipython3",
   "version": "3.6.1"
  }
 },
 "nbformat": 4,
 "nbformat_minor": 2
}
