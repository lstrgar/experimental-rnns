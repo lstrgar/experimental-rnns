{
 "cells": [
  {
   "cell_type": "markdown",
   "metadata": {},
   "source": [
    "# Let's start from first principles and understand every step of our reservoir"
   ]
  },
  {
   "cell_type": "markdown",
   "metadata": {},
   "source": [
    "Starting weight is 5, needs to learn to output 21 from an input of 3"
   ]
  },
  {
   "cell_type": "code",
   "execution_count": 1,
   "metadata": {},
   "outputs": [],
   "source": [
    "%matplotlib inline\n",
    "import numpy as np\n",
    "import torch\n",
    "import matplotlib.pyplot as plt\n",
    "import matplotlib\n",
    "import torch.nn as nn\n",
    "from matplotlib.pyplot import figure\n",
    "\n",
    "class OneWeightNet:\n",
    "    def __init__(self):\n",
    "        self.w = torch.tensor(5.,requires_grad=True)\n",
    "        self.x = torch.tensor(3.)\n",
    "        self.th = nn.Tanh()\n",
    "\n",
    "    def forward(self):\n",
    "        out = self.w*self.x\n",
    "       \n",
    "\n",
    "        self.v = out\n",
    "        return out"
   ]
  },
  {
   "cell_type": "code",
   "execution_count": 15,
   "metadata": {},
   "outputs": [
    {
     "ename": "TypeError",
     "evalue": "mul(): argument 'other' (position 1) must be Tensor, not NoneType",
     "output_type": "error",
     "traceback": [
      "\u001b[0;31m---------------------------------------------------------------------------\u001b[0m",
      "\u001b[0;31mTypeError\u001b[0m                                 Traceback (most recent call last)",
      "\u001b[0;32m<ipython-input-15-b76da8f80d93>\u001b[0m in \u001b[0;36m<module>\u001b[0;34m\u001b[0m\n\u001b[1;32m     16\u001b[0m     \u001b[0mg\u001b[0m \u001b[0;34m=\u001b[0m \u001b[0mm\u001b[0m\u001b[0;34m.\u001b[0m\u001b[0mw\u001b[0m\u001b[0;34m.\u001b[0m\u001b[0mgrad\u001b[0m\u001b[0;34m\u001b[0m\u001b[0;34m\u001b[0m\u001b[0m\n\u001b[1;32m     17\u001b[0m \u001b[0;34m\u001b[0m\u001b[0m\n\u001b[0;32m---> 18\u001b[0;31m     \u001b[0mm\u001b[0m\u001b[0;34m.\u001b[0m\u001b[0mw\u001b[0m \u001b[0;34m=\u001b[0m \u001b[0;34m(\u001b[0m\u001b[0mw\u001b[0m \u001b[0;34m-\u001b[0m \u001b[0mtorch\u001b[0m\u001b[0;34m.\u001b[0m\u001b[0mtensor\u001b[0m\u001b[0;34m(\u001b[0m\u001b[0mlr\u001b[0m\u001b[0;34m)\u001b[0m\u001b[0;34m*\u001b[0m\u001b[0mg\u001b[0m\u001b[0;34m)\u001b[0m\u001b[0;34m\u001b[0m\u001b[0;34m\u001b[0m\u001b[0m\n\u001b[0m\u001b[1;32m     19\u001b[0m \u001b[0;34m\u001b[0m\u001b[0m\n\u001b[1;32m     20\u001b[0m \u001b[0;34m\u001b[0m\u001b[0m\n",
      "\u001b[0;31mTypeError\u001b[0m: mul(): argument 'other' (position 1) must be Tensor, not NoneType"
     ]
    }
   ],
   "source": [
    "m = OneWeightNet()\n",
    "\n",
    "lr = 0.001\n",
    "steps = 500\n",
    "\n",
    "outs = []\n",
    "for step in range(steps):\n",
    "    y = m.forward()\n",
    "    outs.append(y)\n",
    "    target = torch.tensor(100.4)\n",
    "    diff = y-target\n",
    "    rms = diff.pow(2)\n",
    "    rms.backward()\n",
    "    \n",
    "    w = m.w\n",
    "    g = m.w.grad\n",
    "    \n",
    "    m.w = (w - torch.tensor(lr)*g)\n",
    "    \n",
    "    \n",
    "print('Target: {}'.format(target))\n",
    "print('Output: {}'.format(y))\n",
    "\n",
    "fig,ax = plt.subplots()\n",
    "plt.plot(outs)\n",
    "plt.axhline(target,color='r')\n",
    "plt.ylabel('Steps')\n",
    "plt.xlabel('Value')\n",
    "ax.figure.set_size_inches(14,5)\n",
    "\n",
    "plt.legend({'Model','Target'})"
   ]
  },
  {
   "cell_type": "markdown",
   "metadata": {},
   "source": [
    "# New Learning Rate"
   ]
  },
  {
   "cell_type": "code",
   "execution_count": 5,
   "metadata": {},
   "outputs": [
    {
     "name": "stdout",
     "output_type": "stream",
     "text": [
      "Target: 100.4000015258789\n",
      "Output: 100.40003967285156\n"
     ]
    },
    {
     "data": {
      "text/plain": [
       "<matplotlib.legend.Legend at 0x114af1d68>"
      ]
     },
     "execution_count": 5,
     "metadata": {},
     "output_type": "execute_result"
    },
    {
     "data": {
      "image/png": "[encoded data removed]",
      "text/plain": [
       "<matplotlib.figure.Figure at 0x10c4a6c50>"
      ]
     },
     "metadata": {},
     "output_type": "display_data"
    }
   ],
   "source": [
    "m = OneWeightNet()\n",
    "\n",
    "lr = 0.1\n",
    "steps = 500\n",
    "\n",
    "outs = []\n",
    "for step in range(steps):\n",
    "    y = m.forward()\n",
    "    outs.append(y)\n",
    "    target = torch.tensor(100.4)\n",
    "    diff = y-target\n",
    "    rms = diff.pow(2)\n",
    "    rms.backward()\n",
    "    \n",
    "    w = m.w.detach()\n",
    "    g = m.w.grad.detach()\n",
    "    \n",
    "    m.w = (w - lr*g).clone().detach().requires_grad_(True)\n",
    "    m.w.grad = None\n",
    "    \n",
    "    \n",
    "print('Target: {}'.format(target))\n",
    "print('Output: {}'.format(y))\n",
    "\n",
    "\n",
    "fig,ax = plt.subplots()\n",
    "plt.plot(outs)\n",
    "plt.axhline(target,color='r')\n",
    "plt.ylabel('Steps')\n",
    "plt.xlabel('Value')\n",
    "ax.figure.set_size_inches(14,5)\n",
    "\n",
    "plt.legend({'Model','Target'})\n",
    "\n"
   ]
  },
  {
   "cell_type": "markdown",
   "metadata": {},
   "source": [
    "# New Learning Rate"
   ]
  },
  {
   "cell_type": "code",
   "execution_count": 6,
   "metadata": {},
   "outputs": [
    {
     "name": "stdout",
     "output_type": "stream",
     "text": [
      "Target: 100.4000015258789\n",
      "Output: 100.39997863769531\n"
     ]
    },
    {
     "data": {
      "text/plain": [
       "<matplotlib.legend.Legend at 0x114b6cc18>"
      ]
     },
     "execution_count": 6,
     "metadata": {},
     "output_type": "execute_result"
    },
    {
     "data": {
      "image/png": "[encoded data removed]",
      "text/plain": [
       "<matplotlib.figure.Figure at 0x105755860>"
      ]
     },
     "metadata": {},
     "output_type": "display_data"
    }
   ],
   "source": [
    "m = OneWeightNet()\n",
    "\n",
    "lr = .01\n",
    "steps = 500\n",
    "\n",
    "outs = []\n",
    "for step in range(steps):\n",
    "    y = m.forward()\n",
    "    outs.append(y)\n",
    "    target = torch.tensor(100.4)\n",
    "    diff = y-target\n",
    "    rms = diff.pow(2)\n",
    "    rms.backward()\n",
    "    \n",
    "    w = m.w.detach()\n",
    "    g = m.w.grad.detach()\n",
    "    \n",
    "    m.w = (w - lr*g).clone().detach().requires_grad_(True)\n",
    "    m.w.grad = None\n",
    "    \n",
    "    \n",
    "print('Target: {}'.format(target))\n",
    "print('Output: {}'.format(y))\n",
    "\n",
    "\n",
    "fig,ax = plt.subplots()\n",
    "plt.plot(outs)\n",
    "plt.axhline(target,color='r')\n",
    "plt.ylabel('Steps')\n",
    "plt.xlabel('Value')\n",
    "ax.figure.set_size_inches(14,5)\n",
    "\n",
    "plt.legend({'Model','Target'})\n",
    "\n"
   ]
  },
  {
   "cell_type": "markdown",
   "metadata": {},
   "source": [
    "# New Target"
   ]
  },
  {
   "cell_type": "code",
   "execution_count": 7,
   "metadata": {},
   "outputs": [
    {
     "name": "stdout",
     "output_type": "stream",
     "text": [
      "Target: 1258.498046875\n",
      "Output: 1258.34423828125\n"
     ]
    },
    {
     "data": {
      "text/plain": [
       "<matplotlib.legend.Legend at 0x10c4c7048>"
      ]
     },
     "execution_count": 7,
     "metadata": {},
     "output_type": "execute_result"
    },
    {
     "data": {
      "image/png": "[encoded data removed]",
      "text/plain": [
       "<matplotlib.figure.Figure at 0x1147ea9e8>"
      ]
     },
     "metadata": {},
     "output_type": "display_data"
    }
   ],
   "source": [
    "m = OneWeightNet()\n",
    "\n",
    "lr = 0.0001\n",
    "steps = 5000\n",
    "target = torch.tensor(1258.4980)\n",
    "\n",
    "outs = []\n",
    "for step in range(steps):\n",
    "    y = m.forward()\n",
    "    outs.append(y)\n",
    "    \n",
    "    diff = y-target\n",
    "    rms = diff.pow(2)\n",
    "    rms.backward()\n",
    "    \n",
    "    w = m.w.detach()\n",
    "    g = m.w.grad.detach()\n",
    "    \n",
    "    m.w = (w - lr*g).clone().detach().requires_grad_(True)\n",
    "    m.w.grad = None\n",
    "    \n",
    "    \n",
    "print('Target: {}'.format(target))\n",
    "print('Output: {}'.format(y))\n",
    "\n",
    "\n",
    "fig,ax = plt.subplots()\n",
    "plt.plot(outs)\n",
    "plt.axhline(target,color='r')\n",
    "plt.ylabel('Steps')\n",
    "plt.xlabel('Value')\n",
    "ax.figure.set_size_inches(14,5)\n",
    "\n",
    "plt.legend({'Model','Target'})\n",
    "\n"
   ]
  },
  {
   "cell_type": "markdown",
   "metadata": {},
   "source": [
    "# Adding variables"
   ]
  },
  {
   "cell_type": "code",
   "execution_count": 8,
   "metadata": {
    "collapsed": true
   },
   "outputs": [],
   "source": [
    "class OneWeigtTwoInputNet:\n",
    "    def __init__(self):\n",
    "        self.w = torch.tensor(5.,requires_grad=True)\n",
    "        self.x = torch.tensor(3.)\n",
    "        self.x2 = torch.tensor(7.)\n",
    "        self.th = nn.Tanh()\n",
    "\n",
    "    def forward(self):\n",
    "        out = self.w*self.x\n",
    "        out2 = self.w*self.x2\n",
    "       \n",
    "\n",
    "        self.v = out\n",
    "        self.v2 = out2\n",
    "        return out,out2"
   ]
  },
  {
   "cell_type": "markdown",
   "metadata": {},
   "source": [
    "Start with non-orthogonal output targets"
   ]
  },
  {
   "cell_type": "code",
   "execution_count": 18,
   "metadata": {
    "scrolled": true
   },
   "outputs": [
    {
     "name": "stdout",
     "output_type": "stream",
     "text": [
      "Target: tensor([21., 49.])\n",
      "Output: 20.977527618408203 and 48.947566986083984\n"
     ]
    },
    {
     "data": {
      "text/plain": [
       "<matplotlib.legend.Legend at 0x115f81dd8>"
      ]
     },
     "execution_count": 18,
     "metadata": {},
     "output_type": "execute_result"
    },
    {
     "data": {
      "image/png": "[encoded data removed]",
      "text/plain": [
       "<matplotlib.figure.Figure at 0x114e6e320>"
      ]
     },
     "metadata": {},
     "output_type": "display_data"
    }
   ],
   "source": [
    "m = OneWeigtTwoInputNet()\n",
    "lr = 0.01\n",
    "steps = 500\n",
    "target = torch.tensor([21.,49.]) # BOTH PRODUCTS OF SAME WEIGHT i.e. divisible by seven\n",
    "\n",
    "outs = []\n",
    "for step in range(steps):\n",
    "    y1,y2 = m.forward()\n",
    "    outs.append([y1,y2])\n",
    "    \n",
    "    diff1 = y1-target[0]\n",
    "    diff2 = y2-target[1]\n",
    "    rms = diff1.pow(2) + diff2.pow(2)\n",
    "    rms = rms / torch.tensor(2.)\n",
    "    rms = rms.pow(0.5)\n",
    "    \n",
    "    rms.backward()\n",
    "    \n",
    "    w = m.w.detach()\n",
    "    g = m.w.grad.detach()\n",
    "    \n",
    "    m.w = (w - lr*g).clone().detach().requires_grad_(True)\n",
    "    m.w.grad = None\n",
    "    \n",
    "    \n",
    "print('Target: {}'.format(target))\n",
    "print('Output: {} and {}'.format(y1,y2))\n",
    "\n",
    "fig,ax = plt.subplots()\n",
    "outs = np.asarray(outs)\n",
    "plt.plot(outs[:,0])\n",
    "plt.plot(outs[:,1])\n",
    "plt.axhline(target[0],color='r')\n",
    "plt.axhline(target[1],color='k')\n",
    "plt.ylabel('Steps')\n",
    "plt.xlabel('Value')\n",
    "ax.figure.set_size_inches(20,6)\n",
    "\n",
    "\n",
    "plt.legend({'Model 1','Model 2','Target 1','Target 2'})\n",
    "\n",
    "\n",
    "\n"
   ]
  },
  {
   "cell_type": "markdown",
   "metadata": {},
   "source": [
    "Now targets that are dont share divisor"
   ]
  },
  {
   "cell_type": "code",
   "execution_count": 34,
   "metadata": {},
   "outputs": [
    {
     "name": "stdout",
     "output_type": "stream",
     "text": [
      "Target: tensor([ 21., 177.])\n",
      "Output: 67.34447479248047 and 157.13711547851562\n"
     ]
    },
    {
     "data": {
      "text/plain": [
       "<matplotlib.legend.Legend at 0x117d5da58>"
      ]
     },
     "execution_count": 34,
     "metadata": {},
     "output_type": "execute_result"
    },
    {
     "data": {
      "image/png": "[encoded data removed]",
      "text/plain": [
       "<matplotlib.figure.Figure at 0x1171b41d0>"
      ]
     },
     "metadata": {},
     "output_type": "display_data"
    }
   ],
   "source": [
    "m = OneWeigtTwoInputNet()\n",
    "lr = 0.01\n",
    "steps = 5000\n",
    "target = torch.tensor([21.,177.])\n",
    "\n",
    "outs = []\n",
    "for step in range(steps):\n",
    "    y1,y2 = m.forward()\n",
    "    outs.append([y1,y2])\n",
    "    \n",
    "    diff1 = y1-target[0]\n",
    "    diff2 = y2-target[1]\n",
    "    rms = diff1.pow(2) + diff2.pow(2)\n",
    "    rms = rms / torch.tensor(2.)\n",
    "    rms = rms.pow(0.5)\n",
    "    \n",
    "    rms.backward()\n",
    "    \n",
    "    w = m.w.detach()\n",
    "    g = m.w.grad.detach()\n",
    "    \n",
    "    m.w = (w - lr*g).clone().detach().requires_grad_(True)\n",
    "    m.w.grad = None\n",
    "    \n",
    "    \n",
    "print('Target: {}'.format(target))\n",
    "print('Output: {} and {}'.format(y1,y2))\n",
    "\n",
    "fig,ax = plt.subplots()\n",
    "outs = np.asarray(outs)\n",
    "plt.plot(outs[:,0], label='Model 1')\n",
    "plt.plot(outs[:,1], label='Model 2')\n",
    "plt.axhline(target[0],color='r',label='Target 1')\n",
    "plt.axhline(target[1],color='k', label='Target 2')\n",
    "plt.ylabel('Steps')\n",
    "plt.xlabel('Value')\n",
    "ax.figure.set_size_inches(20,6)\n",
    "\n",
    "ax.legend()"
   ]
  },
  {
   "cell_type": "markdown",
   "metadata": {},
   "source": [
    "The function diverges due to insufficient weight space. Let's try *ADDING* some mothafuckin weights"
   ]
  },
  {
   "cell_type": "code",
   "execution_count": 50,
   "metadata": {
    "collapsed": true
   },
   "outputs": [],
   "source": [
    "class TwoWeightNet:\n",
    "    def __init__(self):\n",
    "        self.w = torch.tensor([5.,6.],requires_grad=True)\n",
    "        self.x = torch.tensor([3.,7.])\n",
    "        \n",
    "        self.th = nn.Tanh()\n",
    "\n",
    "    def forward(self):\n",
    "        out = self.x * self.w\n",
    "\n",
    "        return out"
   ]
  },
  {
   "cell_type": "code",
   "execution_count": 51,
   "metadata": {},
   "outputs": [
    {
     "name": "stdout",
     "output_type": "stream",
     "text": [
      "Target: tensor([ 21., 177.])\n",
      "Output: tensor([ 21.0618, 177.0000], grad_fn=<MulBackward0>)\n"
     ]
    },
    {
     "data": {
      "text/plain": [
       "<matplotlib.legend.Legend at 0x118d42550>"
      ]
     },
     "execution_count": 51,
     "metadata": {},
     "output_type": "execute_result"
    },
    {
     "data": {
      "image/png": "[encoded data removed]",
      "text/plain": [
       "<matplotlib.figure.Figure at 0x11883be10>"
      ]
     },
     "metadata": {},
     "output_type": "display_data"
    }
   ],
   "source": [
    "m = TwoWeightNet()\n",
    "lr = 0.01\n",
    "steps = 5000\n",
    "target = torch.tensor([21.,177.])\n",
    "\n",
    "outs = []\n",
    "for step in range(steps):\n",
    "    y = m.forward()\n",
    "    outs.append(y.detach().numpy())\n",
    "    \n",
    "    diff1 = y[0]-target[0]\n",
    "    diff2 = y[1]-target[1]\n",
    "    rms = diff1.pow(2) + diff2.pow(2)\n",
    "    rms = rms / torch.tensor(2.)\n",
    "    rms = rms.pow(0.5)\n",
    "    \n",
    "    rms.backward()\n",
    "    \n",
    "    w = m.w.detach()\n",
    "    g = m.w.grad.detach()\n",
    "    \n",
    "    m.w = (w - lr*g).clone().detach().requires_grad_(True)\n",
    "    m.w.grad = None\n",
    "    \n",
    "    \n",
    "print('Target: {}'.format(target))\n",
    "print('Output: {}'.format(y))\n",
    "\n",
    "fig,ax = plt.subplots()\n",
    "outs = np.asarray(outs)\n",
    "plt.plot(outs[:,0],label='Model 1')\n",
    "plt.plot(outs[:,1],label='Model 2')\n",
    "plt.axhline(target[0],color='r',label='Target 1')\n",
    "plt.axhline(target[1],color='k',label='Target 2')\n",
    "plt.ylabel('Steps')\n",
    "plt.xlabel('Value')\n",
    "ax.figure.set_size_inches(20,6)\n",
    "\n",
    "ax.legend()"
   ]
  },
  {
   "cell_type": "markdown",
   "metadata": {},
   "source": [
    "## OK so now we can get convergence, but this is not fully connected, let's take a look"
   ]
  },
  {
   "cell_type": "code",
   "execution_count": 52,
   "metadata": {
    "collapsed": true
   },
   "outputs": [],
   "source": [
    "class FC_TwoWeightNet:\n",
    "    def __init__(self):\n",
    "        self.w = torch.randn([2,2],requires_grad=True)\n",
    "        self.x = torch.tensor([3.,7.])\n",
    "        \n",
    "        self.th = nn.Tanh()\n",
    "\n",
    "    def forward(self):\n",
    "        out = self.x * self.w\n",
    "\n",
    "        return out"
   ]
  },
  {
   "cell_type": "code",
   "execution_count": 53,
   "metadata": {},
   "outputs": [
    {
     "name": "stdout",
     "output_type": "stream",
     "text": [
      "tensor([[3.5654, 0.8525],\n",
      "        [0.5162, 1.2380]], requires_grad=True)\n",
      "tensor([3., 7.])\n",
      "tensor([[10.6961,  5.9676],\n",
      "        [ 1.5487,  8.6660]], grad_fn=<MulBackward0>)\n"
     ]
    }
   ],
   "source": [
    "m = FC_TwoWeightNet()\n",
    "print(m.w)\n",
    "print(m.x)\n",
    "m.forward()\n",
    "print(m.forward())\n"
   ]
  },
  {
   "cell_type": "markdown",
   "metadata": {},
   "source": [
    "# NOT what we want"
   ]
  },
  {
   "cell_type": "code",
   "execution_count": 54,
   "metadata": {
    "collapsed": true
   },
   "outputs": [],
   "source": [
    "class FC_TwoWeightNet:\n",
    "    def __init__(self):\n",
    "        self.w = torch.randn([2,2],requires_grad=True)\n",
    "        self.x = torch.tensor([3.,7.])\n",
    "        \n",
    "        self.th = nn.Tanh()\n",
    "\n",
    "    def forward(self):\n",
    "        out = torch.matmul(self.w,self.x)\n",
    "\n",
    "        return out"
   ]
  },
  {
   "cell_type": "code",
   "execution_count": 55,
   "metadata": {},
   "outputs": [
    {
     "name": "stdout",
     "output_type": "stream",
     "text": [
      "tensor([[1.5495, 1.6047],\n",
      "        [1.0358, 1.0235]], requires_grad=True)\n",
      "tensor([3., 7.])\n",
      "tensor([15.8812, 10.2719], grad_fn=<MvBackward>)\n"
     ]
    }
   ],
   "source": [
    "m = FC_TwoWeightNet()\n",
    "print(m.w)\n",
    "print(m.x)\n",
    "m.forward()\n",
    "print(m.forward())\n"
   ]
  },
  {
   "cell_type": "code",
   "execution_count": 56,
   "metadata": {},
   "outputs": [
    {
     "name": "stdout",
     "output_type": "stream",
     "text": [
      "-1.7000000000000002\n",
      "-11.000000000000002\n"
     ]
    }
   ],
   "source": [
    "print(0.6*3 + -.5*7)\n",
    "print(-1.1*3+-1.1*7)"
   ]
  },
  {
   "cell_type": "markdown",
   "metadata": {},
   "source": [
    "# We see that the top row corresponds to "
   ]
  },
  {
   "cell_type": "code",
   "execution_count": 63,
   "metadata": {},
   "outputs": [
    {
     "name": "stdout",
     "output_type": "stream",
     "text": [
      "Target: tensor([ 21., 177.])\n",
      "Output: tensor([ 21.0201, 177.1210], grad_fn=<MvBackward>)\n"
     ]
    },
    {
     "data": {
      "text/plain": [
       "<matplotlib.legend.Legend at 0x1154746d8>"
      ]
     },
     "execution_count": 63,
     "metadata": {},
     "output_type": "execute_result"
    },
    {
     "data": {
      "image/png": "[encoded data removed]",
      "text/plain": [
       "<matplotlib.figure.Figure at 0x11572c4a8>"
      ]
     },
     "metadata": {},
     "output_type": "display_data"
    }
   ],
   "source": [
    "m = FC_TwoWeightNet()\n",
    "lr = 0.01\n",
    "steps = 5000\n",
    "target = torch.tensor([21.,177.])\n",
    "\n",
    "outs = []\n",
    "for step in range(steps):\n",
    "    y = m.forward()\n",
    "    outs.append(y.detach().numpy())\n",
    "    \n",
    "    diff1 = y[0]-target[0]\n",
    "    diff2 = y[1]-target[1]\n",
    "    rms = diff1.pow(2) + diff2.pow(2)\n",
    "    rms = rms / torch.tensor(2.)\n",
    "    rms = rms.pow(0.5)\n",
    "    \n",
    "    rms.backward()\n",
    "    \n",
    "    w = m.w.detach()\n",
    "    g = m.w.grad.detach()\n",
    "    \n",
    "    m.w = (w - lr*g).clone().detach().requires_grad_(True)\n",
    "    m.w.grad = None\n",
    "    \n",
    "    \n",
    "print('Target: {}'.format(target))\n",
    "print('Output: {}'.format(y))\n",
    "\n",
    "fig,ax = plt.subplots()\n",
    "outs = np.asarray(outs)\n",
    "plt.plot(outs[:,0])\n",
    "plt.plot(outs[:,1])\n",
    "plt.axhline(target[0],color='r')\n",
    "plt.axhline(target[1],color='k')\n",
    "plt.ylabel('Steps')\n",
    "plt.xlabel('Value')\n",
    "ax.figure.set_size_inches(20,6)\n",
    "\n",
    "\n",
    "plt.legend({'Model 1','Model 2','Target 1','Target 2'})"
   ]
  },
  {
   "cell_type": "markdown",
   "metadata": {},
   "source": [
    "Also able to converge"
   ]
  },
  {
   "cell_type": "markdown",
   "metadata": {},
   "source": [
    "Now, lets look at the weights"
   ]
  },
  {
   "cell_type": "code",
   "execution_count": 64,
   "metadata": {},
   "outputs": [
    {
     "data": {
      "text/plain": [
       "tensor([[ 2.2311,  2.0371],\n",
       "        [ 8.7565, 21.4924]], requires_grad=True)"
      ]
     },
     "execution_count": 64,
     "metadata": {},
     "output_type": "execute_result"
    }
   ],
   "source": [
    "m.w"
   ]
  },
  {
   "cell_type": "code",
   "execution_count": null,
   "metadata": {
    "collapsed": true
   },
   "outputs": [],
   "source": [
    "The inputs are 3 and 7, so it looks like what the model learned was to basically "
   ]
  },
  {
   "cell_type": "code",
   "execution_count": 61,
   "metadata": {},
   "outputs": [
    {
     "data": {
      "text/plain": [
       "20.499999999999996"
      ]
     },
     "execution_count": 61,
     "metadata": {},
     "output_type": "execute_result"
    }
   ],
   "source": [
    "3*0.3 + 7*2.8"
   ]
  },
  {
   "cell_type": "code",
   "execution_count": 57,
   "metadata": {},
   "outputs": [
    {
     "ename": "SyntaxError",
     "evalue": "invalid syntax (<ipython-input-57-f130ab7c50eb>, line 1)",
     "output_type": "error",
     "traceback": [
      "\u001b[0;36m  File \u001b[0;32m\"<ipython-input-57-f130ab7c50eb>\"\u001b[0;36m, line \u001b[0;32m1\u001b[0m\n\u001b[0;31m    7.9+\u001b[0m\n\u001b[0m        ^\u001b[0m\n\u001b[0;31mSyntaxError\u001b[0m\u001b[0;31m:\u001b[0m invalid syntax\n"
     ]
    }
   ],
   "source": [
    "7.9+"
   ]
  },
  {
   "cell_type": "code",
   "execution_count": null,
   "metadata": {
    "collapsed": true
   },
   "outputs": [],
   "source": []
  }
 ],
 "metadata": {
  "kernelspec": {
   "display_name": "Python 3",
   "language": "python",
   "name": "python3"
  },
  "language_info": {
   "codemirror_mode": {
    "name": "ipython",
    "version": 3
   },
   "file_extension": ".py",
   "mimetype": "text/x-python",
   "name": "python",
   "nbconvert_exporter": "python",
   "pygments_lexer": "ipython3",
   "version": "3.6.7"
  }
 },
 "nbformat": 4,
 "nbformat_minor": 2
}
