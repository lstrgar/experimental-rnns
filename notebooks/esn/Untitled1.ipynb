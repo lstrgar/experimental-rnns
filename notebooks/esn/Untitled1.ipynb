{
 "cells": [
  {
   "cell_type": "code",
   "execution_count": 10,
   "metadata": {},
   "outputs": [],
   "source": [
    "import torch\n",
    "import torch.nn as nn\n",
    "from torch.distributions import normal\n",
    "from torch.distributions import uniform\n",
    "import math"
   ]
  },
  {
   "cell_type": "code",
   "execution_count": 34,
   "metadata": {},
   "outputs": [],
   "source": [
    "class CUDAvoir(nn.Module):\n",
    "    def __init__(self,n,p,rho,o=0.0,bias=True):\n",
    "        super(CUDAvoir,self).__init__()\n",
    "\n",
    "        self.n = torch.tensor(n)\n",
    "        self.p = torch.tensor(p)\n",
    "        self.rho = torch.tensor(rho)\n",
    "\n",
    "        self.v = torch.zeros(self.n) ## Recurrent Layer State Vector\n",
    "        self.w = torch.zeros(self.n,self.n) ## Recurrent Layer Weight Matrix\n",
    "\n",
    "        self.ol = nn.Linear(self.n, 1, bias=False) ## Linear Output Layer\n",
    "        self.o = torch.tensor([o]) ## Initalize Output Neuron\n",
    "        self.fb = nn.Linear(1, self.n, bias=False) ## Linear Feedback Layer\n",
    "        self.fb.weight.requires_grad_(False)\n",
    "\n",
    "        if bias: ## Recurrent Layer Bias\n",
    "            self.b = torch.FloatTensor(n).uniform_(0,1)\n",
    "        else:\n",
    "            self.b = torch.zeros(self.n)\n",
    "        \n",
    "        ## Populate Recurrent Layer Weight Matrix\n",
    "        norm = normal.Normal(loc=0,scale=self.rho)\n",
    "        uni = uniform.Uniform(0,1) \n",
    "        for i in range(self.n):\n",
    "            for j in range(self.n):\n",
    "                uni_draw = uni.sample()\n",
    "                if uni_draw < self.p:\n",
    "                    self.w[i,j] = norm.sample()\n",
    "    \n",
    "    def forward(self):\n",
    "        z = torch.matmul(self.w,self.v) + self.fb(self.o) + self.b\n",
    "        nl = nn.Tanh()\n",
    "        y = nl(z)\n",
    "        self.v = y\n",
    "        self.o = self.ol(y)\n",
    "        return self.o"
   ]
  },
  {
   "cell_type": "code",
   "execution_count": 38,
   "metadata": {},
   "outputs": [],
   "source": [
    "n = 500\n",
    "p = .01\n",
    "rho = 0.5\n",
    "m = CUDAvoir(n=n,p=p,rho=rho,o=0.0,bias=True)"
   ]
  },
  {
   "cell_type": "code",
   "execution_count": 37,
   "metadata": {},
   "outputs": [
    {
     "name": "stdout",
     "output_type": "stream",
     "text": [
      "tensor([nan], grad_fn=<SqueezeBackward3>)\n"
     ]
    },
    {
     "ename": "TypeError",
     "evalue": "unsupported operand type(s) for *: 'float' and 'NoneType'",
     "output_type": "error",
     "traceback": [
      "\u001b[0;31m---------------------------------------------------------------------------\u001b[0m",
      "\u001b[0;31mTypeError\u001b[0m                                 Traceback (most recent call last)",
      "\u001b[0;32m<ipython-input-37-f03bbc32fd34>\u001b[0m in \u001b[0;36m<module>\u001b[0;34m()\u001b[0m\n\u001b[1;32m     15\u001b[0m         \u001b[0mol\u001b[0m \u001b[0;34m=\u001b[0m \u001b[0mm\u001b[0m\u001b[0;34m.\u001b[0m\u001b[0mol\u001b[0m\u001b[0;34m.\u001b[0m\u001b[0mweight\u001b[0m\u001b[0;34m.\u001b[0m\u001b[0mdetach\u001b[0m\u001b[0;34m(\u001b[0m\u001b[0;34m)\u001b[0m\u001b[0;34m\u001b[0m\u001b[0m\n\u001b[1;32m     16\u001b[0m         \u001b[0mol_g\u001b[0m \u001b[0;34m=\u001b[0m \u001b[0mm\u001b[0m\u001b[0;34m.\u001b[0m\u001b[0mol\u001b[0m\u001b[0;34m.\u001b[0m\u001b[0mweight\u001b[0m\u001b[0;34m.\u001b[0m\u001b[0mgrad\u001b[0m\u001b[0;34m\u001b[0m\u001b[0m\n\u001b[0;32m---> 17\u001b[0;31m         \u001b[0mnw\u001b[0m \u001b[0;34m=\u001b[0m \u001b[0;34m(\u001b[0m\u001b[0mol\u001b[0m \u001b[0;34m-\u001b[0m \u001b[0mlr\u001b[0m\u001b[0;34m*\u001b[0m\u001b[0mol_g\u001b[0m\u001b[0;34m)\u001b[0m\u001b[0;34m.\u001b[0m\u001b[0mclone\u001b[0m\u001b[0;34m(\u001b[0m\u001b[0;34m)\u001b[0m\u001b[0;34m.\u001b[0m\u001b[0mdetach\u001b[0m\u001b[0;34m(\u001b[0m\u001b[0;34m)\u001b[0m\u001b[0;34m\u001b[0m\u001b[0m\n\u001b[0m\u001b[1;32m     18\u001b[0m         \u001b[0mm\u001b[0m\u001b[0;34m.\u001b[0m\u001b[0mol\u001b[0m\u001b[0;34m.\u001b[0m\u001b[0mweight\u001b[0m \u001b[0;34m=\u001b[0m \u001b[0mnn\u001b[0m\u001b[0;34m.\u001b[0m\u001b[0mParameter\u001b[0m\u001b[0;34m(\u001b[0m\u001b[0mnw\u001b[0m\u001b[0;34m)\u001b[0m\u001b[0;34m\u001b[0m\u001b[0m\n\u001b[1;32m     19\u001b[0m         \u001b[0mm\u001b[0m\u001b[0;34m.\u001b[0m\u001b[0mo\u001b[0m \u001b[0;34m=\u001b[0m \u001b[0mm\u001b[0m\u001b[0;34m.\u001b[0m\u001b[0mol\u001b[0m\u001b[0;34m(\u001b[0m\u001b[0mm\u001b[0m\u001b[0;34m.\u001b[0m\u001b[0mv\u001b[0m\u001b[0;34m)\u001b[0m\u001b[0;34m\u001b[0m\u001b[0m\n",
      "\u001b[0;31mTypeError\u001b[0m: unsupported operand type(s) for *: 'float' and 'NoneType'"
     ]
    }
   ],
   "source": [
    "errs = []\n",
    "lr = 0.02\n",
    "steps = 500\n",
    "dt = 0.05\n",
    "targ = torch.sin\n",
    "for s in range(2):\n",
    "    o = m.forward()\n",
    "    print(o)\n",
    "    u = torch.tensor([dt*s])\n",
    "    for i in range(100):\n",
    "        err = o - targ(u)\n",
    "        errs.append(err)\n",
    "        errsq = err.pow(2)\n",
    "        errsq.backward(retain_graph=True)\n",
    "        ol = m.ol.weight.detach()\n",
    "        ol_g = m.ol.weight.grad\n",
    "        nw = (ol - lr*ol_g).clone().detach()\n",
    "        m.ol.weight = nn.Parameter(nw)\n",
    "        m.o = m.ol(m.v)\n",
    "    print(errs)\n",
    "    errs = []"
   ]
  },
  {
   "cell_type": "code",
   "execution_count": null,
   "metadata": {},
   "outputs": [],
   "source": []
  }
 ],
 "metadata": {
  "kernelspec": {
   "display_name": "Python 3",
   "language": "python",
   "name": "python3"
  },
  "language_info": {
   "codemirror_mode": {
    "name": "ipython",
    "version": 3
   },
   "file_extension": ".py",
   "mimetype": "text/x-python",
   "name": "python",
   "nbconvert_exporter": "python",
   "pygments_lexer": "ipython3",
   "version": "3.6.3"
  }
 },
 "nbformat": 4,
 "nbformat_minor": 2
}
