{
 "cells": [
  {
   "cell_type": "code",
   "execution_count": 81,
   "metadata": {},
   "outputs": [
    {
     "name": "stdout",
     "output_type": "stream",
     "text": [
      "The autoreload extension is already loaded. To reload it, use:\n",
      "  %reload_ext autoreload\n"
     ]
    }
   ],
   "source": [
    "import torch\n",
    "import torch.nn as nn\n",
    "from torch.distributions import normal\n",
    "from torch.distributions import uniform\n",
    "import matplotlib.pyplot as plt\n",
    "import numpy as np\n",
    "from matplotlib.pyplot import figure\n",
    "from pylab import rcParams\n",
    "rcParams['figure.figsize'] = (20, 20) # set default size of plots\n",
    "rcParams['image.interpolation'] = 'nearest'\n",
    "rcParams['image.cmap'] = 'gray'\n",
    "\n",
    "from models import Reservoir\n",
    "from utils import sinMSE, descend\n",
    "%load_ext autoreload\n",
    "%autoreload 2"
   ]
  },
  {
   "cell_type": "markdown",
   "metadata": {},
   "source": [
    "## Very slow, and bad implementation, and buggy, but this is an implementation of Haas' reservoir 2004"
   ]
  },
  {
   "cell_type": "code",
   "execution_count": 80,
   "metadata": {},
   "outputs": [
    {
     "name": "stderr",
     "output_type": "stream",
     "text": [
      "/home/alpinefunker/.local/lib/python3.6/site-packages/ipykernel_launcher.py:27: UserWarning: To copy construct from a tensor, it is recommended to use sourceTensor.clone().detach() or sourceTensor.clone().detach().requires_grad_(True), rather than torch.tensor(sourceTensor).\n",
      "/home/alpinefunker/.local/lib/python3.6/site-packages/ipykernel_launcher.py:47: UserWarning: To copy construct from a tensor, it is recommended to use sourceTensor.clone().detach() or sourceTensor.clone().detach().requires_grad_(True), rather than torch.tensor(sourceTensor).\n"
     ]
    },
    {
     "name": "stdout",
     "output_type": "stream",
     "text": [
      "tensor(nan, grad_fn=<DivBackward0>)\n"
     ]
    }
   ],
   "source": [
    "num_neurons = 50\n",
    "connectivity = 0.2\n",
    "spectral_radius = 1.0\n",
    "\n",
    "dt = 0.5\n",
    "\n",
    "r = Reservoir(num_neurons,connectivity,spectral_radius,init_pattern = 'random',feedback=True,bias=False,fb_scale=1,record_history=True)\n",
    "\n",
    "num_warmup = 100\n",
    "num_train = 100\n",
    "\n",
    "# Let the network warm up\n",
    "for step in range(num_warmup):\n",
    "    r.forward()\n",
    "    \n",
    "\n",
    "\n",
    "# Training dataset\n",
    "for s in range(num_train):\n",
    "    targ = torch.sin(torch.tensor(s*dt))\n",
    "    \n",
    "    r.y = torch.tensor([targ])\n",
    "    r.forward()\n",
    "    \n",
    "    \n",
    "# Train it\n",
    "readout_weight = torch.tensor(r.readout_w,requires_grad=True)\n",
    "\n",
    "epochs = 400\n",
    "lr=0.01\n",
    "\n",
    "for e in range(epochs):\n",
    "    x = torch.tensor(r.history['state_vectors'])[num_warmup:num_warmup+num_train,:]        \n",
    "    y = torch.tensor(r.history['outputs'])[num_warmup:num_warmup+num_train,:]\n",
    "    \n",
    "    diff = y - torch.matmul(x,readout_weight)\n",
    "    se = diff.pow(2)\n",
    "    mse = torch.sum(se) / (num_train-num_warmup)\n",
    "    \n",
    "    mse.backward()\n",
    "    \n",
    "    \n",
    "    grad = readout_weight.grad\n",
    " \n",
    "    \n",
    "    readout_weight = readout_weight - grad*lr\n",
    "    readout_weight = torch.tensor(readout_weight,requires_grad=True)\n",
    "\n",
    "print(mse)\n",
    "    \n",
    "r.readout_w = readout_weight\n"
   ]
  },
  {
   "cell_type": "code",
   "execution_count": null,
   "metadata": {},
   "outputs": [],
   "source": []
  },
  {
   "cell_type": "code",
   "execution_count": null,
   "metadata": {},
   "outputs": [],
   "source": []
  }
 ],
 "metadata": {
  "kernelspec": {
   "display_name": "Python 3",
   "language": "python",
   "name": "python3"
  },
  "language_info": {
   "codemirror_mode": {
    "name": "ipython",
    "version": 3
   },
   "file_extension": ".py",
   "mimetype": "text/x-python",
   "name": "python",
   "nbconvert_exporter": "python",
   "pygments_lexer": "ipython3",
   "version": "3.6.7"
  }
 },
 "nbformat": 4,
 "nbformat_minor": 2
}
